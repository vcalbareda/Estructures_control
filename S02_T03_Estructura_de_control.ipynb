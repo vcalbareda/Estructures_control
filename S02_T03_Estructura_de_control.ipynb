{
 "cells": [
  {
   "cell_type": "markdown",
   "id": "19ef501a",
   "metadata": {},
   "source": [
    "### Exercici 1\n",
    "L'exercici consisteix a crear un programa que et classifiqui una variable numèrica en funció de l’escala Suspès/Aprovat/Notable/Excel·lent."
   ]
  },
  {
   "cell_type": "code",
   "execution_count": 11,
   "id": "906aa372",
   "metadata": {},
   "outputs": [
    {
     "name": "stdout",
     "output_type": "stream",
     "text": [
      "Notable\n"
     ]
    }
   ],
   "source": [
    "# Se clasifica la variable numérica asignada al valor x de forma aleatoria.\n",
    "\n",
    "import random\n",
    "\n",
    "x= random.randrange(1, 10)\n",
    "\n",
    "if x >=0 and x < 5:\n",
    "    print (\"Apobado\")\n",
    "elif x >= 5 and x <=8:\n",
    "    print (\"Notable\")\n",
    "else:\n",
    "    print (\"Excelente\")"
   ]
  },
  {
   "cell_type": "markdown",
   "id": "68387991",
   "metadata": {},
   "source": [
    "### Exercici 2\n",
    "Utilitzant el següent tutorial Programiz: Python Input, Output and Import crea un programa que et pregunti dos números. T’ha de mostrar un missatge dient si el primer és més gran, el segon és més gran o són iguals."
   ]
  },
  {
   "cell_type": "code",
   "execution_count": 18,
   "id": "d56354d0",
   "metadata": {},
   "outputs": [
    {
     "name": "stdout",
     "output_type": "stream",
     "text": [
      "Introduce un número: 7\n",
      "Introduce un segundo número: 7\n",
      "Los dos números son iguales.\n"
     ]
    }
   ],
   "source": [
    "# Inputs creados con su correspondiente casting para quese trate como número.\n",
    "\n",
    "x = input (\"Introduce un número: \")\n",
    "x = int(x)\n",
    "y = input (\"Introduce un segundo número: \")\n",
    "y = int(y)\n",
    "\n",
    "# Comparados los inputs con condicional para imprimir texto por pantalla según el valor de los números introducidos\n",
    "if x==y:\n",
    "    print (\"Los dos números son iguales.\")\n",
    "elif x>y:\n",
    "    print (\"El primer número es mayor que el segundo.\")\n",
    "else:\n",
    "    print (\"El segundo número es mayor que el primero.\")\n"
   ]
  },
  {
   "cell_type": "markdown",
   "id": "1c1a4855",
   "metadata": {},
   "source": [
    "### Exercici 3\n",
    "Crea un programa que et pregunti el teu nom, i et demani un número. Si el número és 0, hauria de mostrar un missatge d’error. En cas contrari, hauria de mostrar el nom repetit tants cops com indiqui el número. Per exemple, “Joan Joan Joan”."
   ]
  },
  {
   "cell_type": "code",
   "execution_count": 74,
   "id": "fef68e2e",
   "metadata": {},
   "outputs": [
    {
     "name": "stdout",
     "output_type": "stream",
     "text": [
      "Introduce tu nombre: victor\n",
      "Introduce el número de repeticiones :3\n",
      "victor victor victor \n"
     ]
    }
   ],
   "source": [
    "name = input (\"Introduce tu nombre: \")\n",
    "x = input (\"Introduce el número de repeticiones :\")\n",
    "x = int (x)\n",
    "\n",
    "# Condicional que comprueba el número y realiza la acción correspondiente.\n",
    "if x== 0:\n",
    "    print (\"Error. El 0 no es un número válido. \")\n",
    "else:\n",
    "    print ( (name + \" \") * x)\n"
   ]
  },
  {
   "cell_type": "markdown",
   "id": "f9cd50d3",
   "metadata": {},
   "source": [
    "### Exercici 4\n",
    "Crea un programa que donada una llista qualsevol, et digui si es simètrica o no. Si ho és, que et digui quants elements té."
   ]
  },
  {
   "cell_type": "code",
   "execution_count": 219,
   "id": "96061e5f",
   "metadata": {
    "scrolled": true
   },
   "outputs": [
    {
     "name": "stdout",
     "output_type": "stream",
     "text": [
      "La lista no es simétrica.\n",
      "La lista es simétrica y tiene 10 items.\n"
     ]
    }
   ],
   "source": [
    "list1 = [3,4,2,0,2,3,6]\n",
    "list2 = [1,2,3,4,5,5,4,3,2,1]\n",
    "\n",
    "# Función que recibe una lista, crea una copia interna, la invierte y la compara con la recibida.\n",
    "\n",
    "def symmetric (l1):\n",
    "    l2 = l1.copy()\n",
    "    l2.reverse()\n",
    "    if l1==l2:\n",
    "        return (\"La lista es simétrica y tiene \"+str(len(l1))+\" items.\")\n",
    "    else: \n",
    "        return (\"La lista no es simétrica.\")\n",
    "        \n",
    "print (symmetric (list1))\n",
    "print (symmetric (list2))"
   ]
  },
  {
   "cell_type": "markdown",
   "id": "0e64c5e6",
   "metadata": {},
   "source": [
    "### Exercici 5\n",
    "Crea un programa que donada una llista, et digui quants números coincideixen amb la seva posició. Per exemple [3,4,2,0,2,3,6] el 2 i el 6 coincideixen."
   ]
  },
  {
   "cell_type": "code",
   "execution_count": 52,
   "id": "e7a9d128",
   "metadata": {},
   "outputs": [
    {
     "name": "stdout",
     "output_type": "stream",
     "text": [
      "2\n",
      "6\n"
     ]
    }
   ],
   "source": [
    "list = [3,4,2,0,2,3,6]\n",
    "\n",
    "# Función que recibe parámetro. Este tiene un bucle que recorre todas la posiciones\n",
    "# e imprime por pantalla la coincidencia del valor con la posición.\n",
    "\n",
    "def match_position (list):\n",
    "    for x in range(len(list)):\n",
    "        if list[x] == x:\n",
    "            print(x)\n",
    "\n",
    "match_position(list)"
   ]
  },
  {
   "cell_type": "markdown",
   "id": "0438b32f",
   "metadata": {},
   "source": []
  }
 ],
 "metadata": {
  "kernelspec": {
   "display_name": "Python 3 (ipykernel)",
   "language": "python",
   "name": "python3"
  },
  "language_info": {
   "codemirror_mode": {
    "name": "ipython",
    "version": 3
   },
   "file_extension": ".py",
   "mimetype": "text/x-python",
   "name": "python",
   "nbconvert_exporter": "python",
   "pygments_lexer": "ipython3",
   "version": "3.9.7"
  },
  "latex_envs": {
   "LaTeX_envs_menu_present": true,
   "autoclose": false,
   "autocomplete": true,
   "bibliofile": "biblio.bib",
   "cite_by": "apalike",
   "current_citInitial": 1,
   "eqLabelWithNumbers": true,
   "eqNumInitial": 1,
   "hotkeys": {
    "equation": "Ctrl-E",
    "itemize": "Ctrl-I"
   },
   "labels_anchors": false,
   "latex_user_defs": false,
   "report_style_numbering": false,
   "user_envs_cfg": false
  }
 },
 "nbformat": 4,
 "nbformat_minor": 5
}
